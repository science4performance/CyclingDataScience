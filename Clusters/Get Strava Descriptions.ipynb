{
 "cells": [
  {
   "cell_type": "markdown",
   "metadata": {},
   "source": [
    "# For GC project pull in strava descriptions"
   ]
  },
  {
   "cell_type": "code",
   "execution_count": 72,
   "metadata": {
    "collapsed": true
   },
   "outputs": [],
   "source": [
    "import os\n",
    "os.chdir('/users/gavin/gavin/jupyter/strava')\n",
    "import Strava_Download as sd\n",
    "import stravalib\n",
    "import pandas as pd"
   ]
  },
  {
   "cell_type": "code",
   "execution_count": 73,
   "metadata": {
    "collapsed": true
   },
   "outputs": [],
   "source": [
    "mytoken = sd.get_token()\n",
    "client = stravalib.Client(access_token = mytoken) "
   ]
  },
  {
   "cell_type": "code",
   "execution_count": 74,
   "metadata": {
    "collapsed": true
   },
   "outputs": [],
   "source": [
    "dict = {}\n",
    "for activity in  client.get_activities(after='2013/12/31'):\n",
    "    dict[activity.start_date_local] = [ activity.name, activity.type,activity.trainer, \n",
    "                                        float(stravalib.unithelper.meters(activity.distance))/1000,\\\n",
    "                                        activity.workout_type]\n"
   ]
  },
  {
   "cell_type": "code",
   "execution_count": 75,
   "metadata": {
    "collapsed": true
   },
   "outputs": [],
   "source": [
    "strava = pd.DataFrame(dict).T;\n",
    "strava.columns = ['Name','Sport','Trainer','Distance','Workout_Type']\n",
    "strava.index = pd.to_datetime(strava.index)\n",
    "strava.index.name = 'DateTime'"
   ]
  },
  {
   "cell_type": "code",
   "execution_count": 76,
   "metadata": {},
   "outputs": [
    {
     "data": {
      "text/html": [
       "<div>\n",
       "<style scoped>\n",
       "    .dataframe tbody tr th:only-of-type {\n",
       "        vertical-align: middle;\n",
       "    }\n",
       "\n",
       "    .dataframe tbody tr th {\n",
       "        vertical-align: top;\n",
       "    }\n",
       "\n",
       "    .dataframe thead th {\n",
       "        text-align: right;\n",
       "    }\n",
       "</style>\n",
       "<table border=\"1\" class=\"dataframe\">\n",
       "  <thead>\n",
       "    <tr style=\"text-align: right;\">\n",
       "      <th></th>\n",
       "      <th>Name</th>\n",
       "      <th>Sport</th>\n",
       "      <th>Trainer</th>\n",
       "      <th>Distance</th>\n",
       "      <th>Workout_Type</th>\n",
       "      <th>Type</th>\n",
       "    </tr>\n",
       "    <tr>\n",
       "      <th>DateTime</th>\n",
       "      <th></th>\n",
       "      <th></th>\n",
       "      <th></th>\n",
       "      <th></th>\n",
       "      <th></th>\n",
       "      <th></th>\n",
       "    </tr>\n",
       "  </thead>\n",
       "  <tbody>\n",
       "    <tr>\n",
       "      <th>2014-01-05 08:24:28</th>\n",
       "      <td>Windsor Ride</td>\n",
       "      <td>Ride</td>\n",
       "      <td>False</td>\n",
       "      <td>92.3972</td>\n",
       "      <td>None</td>\n",
       "      <td>Ride</td>\n",
       "    </tr>\n",
       "    <tr>\n",
       "      <th>2014-01-07 19:27:21</th>\n",
       "      <td>Turbo intervals</td>\n",
       "      <td>Ride</td>\n",
       "      <td>True</td>\n",
       "      <td>36.335</td>\n",
       "      <td>None</td>\n",
       "      <td>Trainer</td>\n",
       "    </tr>\n",
       "    <tr>\n",
       "      <th>2014-01-09 19:51:27</th>\n",
       "      <td>09/01/2014 Richmond, Greater London, United Ki...</td>\n",
       "      <td>Run</td>\n",
       "      <td>False</td>\n",
       "      <td>3.6817</td>\n",
       "      <td>0</td>\n",
       "      <td>Run</td>\n",
       "    </tr>\n",
       "    <tr>\n",
       "      <th>2014-01-11 08:46:59</th>\n",
       "      <td>11/01/2014 Richmond, Greater London, United Ki...</td>\n",
       "      <td>Ride</td>\n",
       "      <td>False</td>\n",
       "      <td>68.0642</td>\n",
       "      <td>None</td>\n",
       "      <td>Ride</td>\n",
       "    </tr>\n",
       "    <tr>\n",
       "      <th>2014-01-12 08:48:01</th>\n",
       "      <td>Surrey Hills with Jamie</td>\n",
       "      <td>Ride</td>\n",
       "      <td>False</td>\n",
       "      <td>105.719</td>\n",
       "      <td>None</td>\n",
       "      <td>Ride</td>\n",
       "    </tr>\n",
       "  </tbody>\n",
       "</table>\n",
       "</div>"
      ],
      "text/plain": [
       "                                                                  Name Sport  \\\n",
       "DateTime                                                                       \n",
       "2014-01-05 08:24:28                                       Windsor Ride  Ride   \n",
       "2014-01-07 19:27:21                                    Turbo intervals  Ride   \n",
       "2014-01-09 19:51:27  09/01/2014 Richmond, Greater London, United Ki...   Run   \n",
       "2014-01-11 08:46:59  11/01/2014 Richmond, Greater London, United Ki...  Ride   \n",
       "2014-01-12 08:48:01                            Surrey Hills with Jamie  Ride   \n",
       "\n",
       "                    Trainer Distance Workout_Type     Type  \n",
       "DateTime                                                    \n",
       "2014-01-05 08:24:28   False  92.3972         None     Ride  \n",
       "2014-01-07 19:27:21    True   36.335         None  Trainer  \n",
       "2014-01-09 19:51:27   False   3.6817            0      Run  \n",
       "2014-01-11 08:46:59   False  68.0642         None     Ride  \n",
       "2014-01-12 08:48:01   False  105.719         None     Ride  "
      ]
     },
     "execution_count": 76,
     "metadata": {},
     "output_type": "execute_result"
    }
   ],
   "source": [
    "strava['Type']=strava.Sport\n",
    "strava.Type[strava.Trainer] = 'Trainer'\n",
    "strava.Type[strava.Workout_Type == '11'] = 'Race'\n",
    "strava.head()"
   ]
  },
  {
   "cell_type": "code",
   "execution_count": 77,
   "metadata": {
    "collapsed": true
   },
   "outputs": [],
   "source": [
    "strava.to_csv('/users/gavin/gavin/jupyter/GoldenCheetah/strava.csv')"
   ]
  },
  {
   "cell_type": "code",
   "execution_count": null,
   "metadata": {
    "collapsed": true
   },
   "outputs": [],
   "source": []
  }
 ],
 "metadata": {
  "kernelspec": {
   "display_name": "Python [Root]",
   "language": "python",
   "name": "Python [Root]"
  },
  "language_info": {
   "codemirror_mode": {
    "name": "ipython",
    "version": 3
   },
   "file_extension": ".py",
   "mimetype": "text/x-python",
   "name": "python",
   "nbconvert_exporter": "python",
   "pygments_lexer": "ipython3",
   "version": "3.5.3"
  }
 },
 "nbformat": 4,
 "nbformat_minor": 2
}
