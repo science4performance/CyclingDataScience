{
 "cells": [
  {
   "cell_type": "markdown",
   "metadata": {},
   "source": [
    "# Cycling Data Science - Clusters"
   ]
  },
  {
   "cell_type": "markdown",
   "metadata": {},
   "source": [
    "Data Science is a hot topic that is impacting a huge range of diverse areas from business to sport. With so many cyclists collecting and uploading their data, there is plenty of raw material upon which to draw interesting insights. This project takes a look at how we might explore a set of historic rides. As a possible objective it would be very helpful to be able to categorise rides automatically."
   ]
  },
  {
   "cell_type": "markdown",
   "metadata": {},
   "source": [
    "I took as a data set Garmin files covering 2014-2017 that I had uploaded to Golden Cheetah (GC). This excellent software calculates a large range of statistics and provides an excellent interface for exploring rides. In Preferences you can enable a restful web service api that will be available whilst GC is running. This provides URLs that you can call from external programmes to retrieve data. For some reason I could not make this work reliably using Python 3.5, so this notebook runs Python 2.7. A separate Python 3.5 notebook in this folder is used to download the Strava history. "
   ]
  },
  {
   "cell_type": "markdown",
   "metadata": {
    "heading_collapsed": true
   },
   "source": [
    "## Create a csv file with GC history from 2014-2017"
   ]
  },
  {
   "cell_type": "markdown",
   "metadata": {
    "hidden": true
   },
   "source": [
    "It is straightforward to load summary statistics for my entire history of GC data into a pandas DataFrame. The list includes some runs that will need to be filtered out from cycling. The rides include races, training sessions (outdoors and on the turbo), social rides, long mountainous epics and some mountain biking. The challenge is to find ways to identify them. "
   ]
  },
  {
   "cell_type": "code",
   "execution_count": 409,
   "metadata": {
    "collapsed": true,
    "hidden": true
   },
   "outputs": [],
   "source": [
    "%matplotlib inline\n",
    "import pandas as pd\n",
    "import matplotlib.pylab as plt\n",
    "import numpy as np\n"
   ]
  },
  {
   "cell_type": "code",
   "execution_count": 410,
   "metadata": {
    "collapsed": true,
    "hidden": true
   },
   "outputs": [],
   "source": [
    "path = \"http://localhost:12021/\"\n",
    "athlete = 'Gavin'\n",
    "start = '2014/01/01'\n",
    "\n",
    "data = pd.read_csv('{}{}?metadata=all&since={}'.format(path,athlete,start), skipinitialspace=True)\n"
   ]
  },
  {
   "cell_type": "code",
   "execution_count": 411,
   "metadata": {
    "hidden": true
   },
   "outputs": [
    {
     "data": {
      "text/plain": [
       "(852, 364)"
      ]
     },
     "execution_count": 411,
     "metadata": {},
     "output_type": "execute_result"
    }
   ],
   "source": [
    "data.shape"
   ]
  },
  {
   "cell_type": "markdown",
   "metadata": {
    "hidden": true
   },
   "source": [
    "There are over 800 records since 2014. For each one Golden Cheetah has generated 364 built-in metrics and metadata https://github.com/GoldenCheetah/GoldenCheetah/wiki/API-Athlete-Metrics-and-Metadata. These include standard cycling measures like average speed, power and heart rate, as well as more esoteric metrics like \"Time expended when Power is above CP and W' bal is between 50% and 75% of W'\". Some of the metrics apply to other sports, such as running or swimming, so they are not relevant to bike rides. It is helpful to do a bit of tidying up. "
   ]
  },
  {
   "cell_type": "code",
   "execution_count": 412,
   "metadata": {
    "collapsed": true,
    "hidden": true
   },
   "outputs": [],
   "source": [
    "# Create DateTime column (note that GC 'time' does not always match start time of event)\n",
    "data['DateTime'] = [pd.to_datetime(r.split('.')[0], format='%Y_%m_%d_%H_%M_%S') for r in data.filename]\n",
    "data = data[np.roll(data.columns,1)]\n"
   ]
  },
  {
   "cell_type": "code",
   "execution_count": 413,
   "metadata": {
    "collapsed": true,
    "hidden": true
   },
   "outputs": [],
   "source": [
    "# Filter out runs by looking for speed and (power or cadence)\n",
    "data = data[data.Sport == 'Bike']"
   ]
  },
  {
   "cell_type": "code",
   "execution_count": 414,
   "metadata": {
    "hidden": true
   },
   "outputs": [
    {
     "data": {
      "text/plain": [
       "(809, 215)"
      ]
     },
     "execution_count": 414,
     "metadata": {},
     "output_type": "execute_result"
    }
   ],
   "source": [
    "# Remove columns of NaNs\n",
    "data = data.dropna(axis=1, how='all')\n",
    "# Remove metrics that are all zeros or all the same\n",
    "mask = [c for c in data.columns if (data[c].max() != data[c].min())]\n",
    "data = data[mask]\n",
    "# Remove HRV fields, Checksum and some metadata\n",
    "data.drop(['date','Fraction_of_normal_RR_intervals', 'Average_of_all_NN_intervals',\\\n",
    "          'Standard_deviation_of_NN', 'SDANN', 'SDNNIDX', 'rMSSD', 'Rest_HR',\\\n",
    "          'Rest_AVNN', 'Rest_SDNN', 'Rest_rMSSD', 'HRV_Recovery_Points', 'Weight',\\\n",
    "          'RPE', 'Keywords', 'Objective', 'Notes', 'Device', 'Device_Info',\\\n",
    "          'Calendar_Text','Data','Checksum'], axis=1, inplace=True)\n",
    "data.shape"
   ]
  },
  {
   "cell_type": "markdown",
   "metadata": {
    "hidden": true
   },
   "source": [
    "We now have the relevant fields for bike rides"
   ]
  },
  {
   "cell_type": "code",
   "execution_count": 415,
   "metadata": {
    "hidden": true
   },
   "outputs": [
    {
     "data": {
      "text/html": [
       "<div>\n",
       "<table border=\"1\" class=\"dataframe\">\n",
       "  <thead>\n",
       "    <tr style=\"text-align: right;\">\n",
       "      <th></th>\n",
       "      <th>DateTime</th>\n",
       "      <th>time</th>\n",
       "      <th>filename</th>\n",
       "      <th>axPower</th>\n",
       "      <th>aPower_Relative_Intensity</th>\n",
       "      <th>aBikeScore</th>\n",
       "      <th>Skiba_aVI</th>\n",
       "      <th>aPower_Response_Index</th>\n",
       "      <th>aNP</th>\n",
       "      <th>aIF</th>\n",
       "      <th>...</th>\n",
       "      <th>W2_W'bal_Moderate_Fatigue</th>\n",
       "      <th>W3_W'bal_Heavy_Fatigue</th>\n",
       "      <th>W4_W'bal_Severe_Fatigue</th>\n",
       "      <th>W1_W'bal_Work_Low_Fatigue</th>\n",
       "      <th>W2_W'bal_Work_Moderate_Fatigue</th>\n",
       "      <th>W3_W'bal_Work_Heavy_Fatigue</th>\n",
       "      <th>W4_W'bal_Work_Severe_Fatigue</th>\n",
       "      <th>Below_CP_Work</th>\n",
       "      <th>Workout_Code</th>\n",
       "      <th>Workout_Title</th>\n",
       "    </tr>\n",
       "  </thead>\n",
       "  <tbody>\n",
       "    <tr>\n",
       "      <th>0</th>\n",
       "      <td>2014-01-05 08:24:27</td>\n",
       "      <td>10:24:27</td>\n",
       "      <td>2014_01_05_08_24_27.json</td>\n",
       "      <td>0.000</td>\n",
       "      <td>0.00000</td>\n",
       "      <td>0.0000</td>\n",
       "      <td>0.00000</td>\n",
       "      <td>0.00000</td>\n",
       "      <td>0.000</td>\n",
       "      <td>0.00000</td>\n",
       "      <td>...</td>\n",
       "      <td>0</td>\n",
       "      <td>0</td>\n",
       "      <td>0</td>\n",
       "      <td>0.000</td>\n",
       "      <td>0.000</td>\n",
       "      <td>0.000</td>\n",
       "      <td>0.000</td>\n",
       "      <td>0.000</td>\n",
       "      <td>NaN</td>\n",
       "      <td>NaN</td>\n",
       "    </tr>\n",
       "    <tr>\n",
       "      <th>1</th>\n",
       "      <td>2014-01-07 19:27:20</td>\n",
       "      <td>21:27:20</td>\n",
       "      <td>2014_01_07_19_27_20.json</td>\n",
       "      <td>253.686</td>\n",
       "      <td>0.90602</td>\n",
       "      <td>82.2699</td>\n",
       "      <td>1.09083</td>\n",
       "      <td>1.85520</td>\n",
       "      <td>256.653</td>\n",
       "      <td>0.91662</td>\n",
       "      <td>...</td>\n",
       "      <td>128</td>\n",
       "      <td>0</td>\n",
       "      <td>0</td>\n",
       "      <td>829.311</td>\n",
       "      <td>32.421</td>\n",
       "      <td>0.000</td>\n",
       "      <td>0.000</td>\n",
       "      <td>813.108</td>\n",
       "      <td>NaN</td>\n",
       "      <td>NaN</td>\n",
       "    </tr>\n",
       "    <tr>\n",
       "      <th>2</th>\n",
       "      <td>2014-01-11 08:46:58</td>\n",
       "      <td>10:46:58</td>\n",
       "      <td>2014_01_11_08_46_58.json</td>\n",
       "      <td>265.642</td>\n",
       "      <td>0.94872</td>\n",
       "      <td>235.9180</td>\n",
       "      <td>1.12208</td>\n",
       "      <td>2.21341</td>\n",
       "      <td>286.852</td>\n",
       "      <td>1.02447</td>\n",
       "      <td>...</td>\n",
       "      <td>2087</td>\n",
       "      <td>1565</td>\n",
       "      <td>3590</td>\n",
       "      <td>337.727</td>\n",
       "      <td>382.428</td>\n",
       "      <td>302.116</td>\n",
       "      <td>944.262</td>\n",
       "      <td>1635.620</td>\n",
       "      <td>NaN</td>\n",
       "      <td>NaN</td>\n",
       "    </tr>\n",
       "    <tr>\n",
       "      <th>3</th>\n",
       "      <td>2014-01-12 08:48:00</td>\n",
       "      <td>10:48:00</td>\n",
       "      <td>2014_01_12_08_48_00.json</td>\n",
       "      <td>0.000</td>\n",
       "      <td>0.00000</td>\n",
       "      <td>0.0000</td>\n",
       "      <td>0.00000</td>\n",
       "      <td>0.00000</td>\n",
       "      <td>0.000</td>\n",
       "      <td>0.00000</td>\n",
       "      <td>...</td>\n",
       "      <td>0</td>\n",
       "      <td>0</td>\n",
       "      <td>0</td>\n",
       "      <td>0.000</td>\n",
       "      <td>0.000</td>\n",
       "      <td>0.000</td>\n",
       "      <td>0.000</td>\n",
       "      <td>0.000</td>\n",
       "      <td>NaN</td>\n",
       "      <td>NaN</td>\n",
       "    </tr>\n",
       "    <tr>\n",
       "      <th>4</th>\n",
       "      <td>2014-01-14 19:11:46</td>\n",
       "      <td>21:11:46</td>\n",
       "      <td>2014_01_14_19_11_46.json</td>\n",
       "      <td>235.593</td>\n",
       "      <td>0.84140</td>\n",
       "      <td>70.8548</td>\n",
       "      <td>1.10010</td>\n",
       "      <td>1.67045</td>\n",
       "      <td>236.347</td>\n",
       "      <td>0.84410</td>\n",
       "      <td>...</td>\n",
       "      <td>0</td>\n",
       "      <td>0</td>\n",
       "      <td>0</td>\n",
       "      <td>781.467</td>\n",
       "      <td>0.000</td>\n",
       "      <td>0.000</td>\n",
       "      <td>0.000</td>\n",
       "      <td>770.513</td>\n",
       "      <td>NaN</td>\n",
       "      <td>NaN</td>\n",
       "    </tr>\n",
       "  </tbody>\n",
       "</table>\n",
       "<p>5 rows × 215 columns</p>\n",
       "</div>"
      ],
      "text/plain": [
       "             DateTime      time                  filename  axPower  \\\n",
       "0 2014-01-05 08:24:27  10:24:27  2014_01_05_08_24_27.json    0.000   \n",
       "1 2014-01-07 19:27:20  21:27:20  2014_01_07_19_27_20.json  253.686   \n",
       "2 2014-01-11 08:46:58  10:46:58  2014_01_11_08_46_58.json  265.642   \n",
       "3 2014-01-12 08:48:00  10:48:00  2014_01_12_08_48_00.json    0.000   \n",
       "4 2014-01-14 19:11:46  21:11:46  2014_01_14_19_11_46.json  235.593   \n",
       "\n",
       "   aPower_Relative_Intensity  aBikeScore  Skiba_aVI  aPower_Response_Index  \\\n",
       "0                    0.00000      0.0000    0.00000                0.00000   \n",
       "1                    0.90602     82.2699    1.09083                1.85520   \n",
       "2                    0.94872    235.9180    1.12208                2.21341   \n",
       "3                    0.00000      0.0000    0.00000                0.00000   \n",
       "4                    0.84140     70.8548    1.10010                1.67045   \n",
       "\n",
       "       aNP      aIF      ...        W2_W'bal_Moderate_Fatigue  \\\n",
       "0    0.000  0.00000      ...                                0   \n",
       "1  256.653  0.91662      ...                              128   \n",
       "2  286.852  1.02447      ...                             2087   \n",
       "3    0.000  0.00000      ...                                0   \n",
       "4  236.347  0.84410      ...                                0   \n",
       "\n",
       "   W3_W'bal_Heavy_Fatigue  W4_W'bal_Severe_Fatigue  W1_W'bal_Work_Low_Fatigue  \\\n",
       "0                       0                        0                      0.000   \n",
       "1                       0                        0                    829.311   \n",
       "2                    1565                     3590                    337.727   \n",
       "3                       0                        0                      0.000   \n",
       "4                       0                        0                    781.467   \n",
       "\n",
       "   W2_W'bal_Work_Moderate_Fatigue  W3_W'bal_Work_Heavy_Fatigue  \\\n",
       "0                           0.000                        0.000   \n",
       "1                          32.421                        0.000   \n",
       "2                         382.428                      302.116   \n",
       "3                           0.000                        0.000   \n",
       "4                           0.000                        0.000   \n",
       "\n",
       "   W4_W'bal_Work_Severe_Fatigue  Below_CP_Work  Workout_Code  Workout_Title  \n",
       "0                         0.000          0.000           NaN            NaN  \n",
       "1                         0.000        813.108           NaN            NaN  \n",
       "2                       944.262       1635.620           NaN            NaN  \n",
       "3                         0.000          0.000           NaN            NaN  \n",
       "4                         0.000        770.513           NaN            NaN  \n",
       "\n",
       "[5 rows x 215 columns]"
      ]
     },
     "execution_count": 415,
     "metadata": {},
     "output_type": "execute_result"
    }
   ],
   "source": [
    "data.head()"
   ]
  },
  {
   "cell_type": "code",
   "execution_count": 416,
   "metadata": {
    "collapsed": true,
    "hidden": true
   },
   "outputs": [],
   "source": [
    "data.to_csv('GC_Gavin_History.csv')"
   ]
  },
  {
   "cell_type": "markdown",
   "metadata": {
    "heading_collapsed": true
   },
   "source": [
    "## Merge GC data and with strava metadata"
   ]
  },
  {
   "cell_type": "code",
   "execution_count": 417,
   "metadata": {
    "hidden": true
   },
   "outputs": [
    {
     "data": {
      "text/html": [
       "<div>\n",
       "<table border=\"1\" class=\"dataframe\">\n",
       "  <thead>\n",
       "    <tr style=\"text-align: right;\">\n",
       "      <th></th>\n",
       "      <th>DateTime</th>\n",
       "      <th>time</th>\n",
       "      <th>filename</th>\n",
       "      <th>axPower</th>\n",
       "      <th>aPower_Relative_Intensity</th>\n",
       "      <th>aBikeScore</th>\n",
       "      <th>Skiba_aVI</th>\n",
       "      <th>aPower_Response_Index</th>\n",
       "      <th>aNP</th>\n",
       "      <th>aIF</th>\n",
       "      <th>...</th>\n",
       "      <th>W2_W'bal_Moderate_Fatigue</th>\n",
       "      <th>W3_W'bal_Heavy_Fatigue</th>\n",
       "      <th>W4_W'bal_Severe_Fatigue</th>\n",
       "      <th>W1_W'bal_Work_Low_Fatigue</th>\n",
       "      <th>W2_W'bal_Work_Moderate_Fatigue</th>\n",
       "      <th>W3_W'bal_Work_Heavy_Fatigue</th>\n",
       "      <th>W4_W'bal_Work_Severe_Fatigue</th>\n",
       "      <th>Below_CP_Work</th>\n",
       "      <th>Workout_Code</th>\n",
       "      <th>Workout_Title</th>\n",
       "    </tr>\n",
       "  </thead>\n",
       "  <tbody>\n",
       "    <tr>\n",
       "      <th>0</th>\n",
       "      <td>2014-01-05 08:24:27</td>\n",
       "      <td>10:24:27</td>\n",
       "      <td>2014_01_05_08_24_27.json</td>\n",
       "      <td>0.000</td>\n",
       "      <td>0.00000</td>\n",
       "      <td>0.0000</td>\n",
       "      <td>0.00000</td>\n",
       "      <td>0.00000</td>\n",
       "      <td>0.000</td>\n",
       "      <td>0.00000</td>\n",
       "      <td>...</td>\n",
       "      <td>0</td>\n",
       "      <td>0</td>\n",
       "      <td>0</td>\n",
       "      <td>0.000</td>\n",
       "      <td>0.000</td>\n",
       "      <td>0.000</td>\n",
       "      <td>0.000</td>\n",
       "      <td>0.000</td>\n",
       "      <td>NaN</td>\n",
       "      <td>NaN</td>\n",
       "    </tr>\n",
       "    <tr>\n",
       "      <th>1</th>\n",
       "      <td>2014-01-07 19:27:20</td>\n",
       "      <td>21:27:20</td>\n",
       "      <td>2014_01_07_19_27_20.json</td>\n",
       "      <td>253.686</td>\n",
       "      <td>0.90602</td>\n",
       "      <td>82.2699</td>\n",
       "      <td>1.09083</td>\n",
       "      <td>1.85520</td>\n",
       "      <td>256.653</td>\n",
       "      <td>0.91662</td>\n",
       "      <td>...</td>\n",
       "      <td>128</td>\n",
       "      <td>0</td>\n",
       "      <td>0</td>\n",
       "      <td>829.311</td>\n",
       "      <td>32.421</td>\n",
       "      <td>0.000</td>\n",
       "      <td>0.000</td>\n",
       "      <td>813.108</td>\n",
       "      <td>NaN</td>\n",
       "      <td>NaN</td>\n",
       "    </tr>\n",
       "    <tr>\n",
       "      <th>2</th>\n",
       "      <td>2014-01-11 08:46:58</td>\n",
       "      <td>10:46:58</td>\n",
       "      <td>2014_01_11_08_46_58.json</td>\n",
       "      <td>265.642</td>\n",
       "      <td>0.94872</td>\n",
       "      <td>235.9180</td>\n",
       "      <td>1.12208</td>\n",
       "      <td>2.21341</td>\n",
       "      <td>286.852</td>\n",
       "      <td>1.02447</td>\n",
       "      <td>...</td>\n",
       "      <td>2087</td>\n",
       "      <td>1565</td>\n",
       "      <td>3590</td>\n",
       "      <td>337.727</td>\n",
       "      <td>382.428</td>\n",
       "      <td>302.116</td>\n",
       "      <td>944.262</td>\n",
       "      <td>1635.620</td>\n",
       "      <td>NaN</td>\n",
       "      <td>NaN</td>\n",
       "    </tr>\n",
       "    <tr>\n",
       "      <th>3</th>\n",
       "      <td>2014-01-12 08:48:00</td>\n",
       "      <td>10:48:00</td>\n",
       "      <td>2014_01_12_08_48_00.json</td>\n",
       "      <td>0.000</td>\n",
       "      <td>0.00000</td>\n",
       "      <td>0.0000</td>\n",
       "      <td>0.00000</td>\n",
       "      <td>0.00000</td>\n",
       "      <td>0.000</td>\n",
       "      <td>0.00000</td>\n",
       "      <td>...</td>\n",
       "      <td>0</td>\n",
       "      <td>0</td>\n",
       "      <td>0</td>\n",
       "      <td>0.000</td>\n",
       "      <td>0.000</td>\n",
       "      <td>0.000</td>\n",
       "      <td>0.000</td>\n",
       "      <td>0.000</td>\n",
       "      <td>NaN</td>\n",
       "      <td>NaN</td>\n",
       "    </tr>\n",
       "    <tr>\n",
       "      <th>4</th>\n",
       "      <td>2014-01-14 19:11:46</td>\n",
       "      <td>21:11:46</td>\n",
       "      <td>2014_01_14_19_11_46.json</td>\n",
       "      <td>235.593</td>\n",
       "      <td>0.84140</td>\n",
       "      <td>70.8548</td>\n",
       "      <td>1.10010</td>\n",
       "      <td>1.67045</td>\n",
       "      <td>236.347</td>\n",
       "      <td>0.84410</td>\n",
       "      <td>...</td>\n",
       "      <td>0</td>\n",
       "      <td>0</td>\n",
       "      <td>0</td>\n",
       "      <td>781.467</td>\n",
       "      <td>0.000</td>\n",
       "      <td>0.000</td>\n",
       "      <td>0.000</td>\n",
       "      <td>770.513</td>\n",
       "      <td>NaN</td>\n",
       "      <td>NaN</td>\n",
       "    </tr>\n",
       "  </tbody>\n",
       "</table>\n",
       "<p>5 rows × 215 columns</p>\n",
       "</div>"
      ],
      "text/plain": [
       "             DateTime      time                  filename  axPower  \\\n",
       "0 2014-01-05 08:24:27  10:24:27  2014_01_05_08_24_27.json    0.000   \n",
       "1 2014-01-07 19:27:20  21:27:20  2014_01_07_19_27_20.json  253.686   \n",
       "2 2014-01-11 08:46:58  10:46:58  2014_01_11_08_46_58.json  265.642   \n",
       "3 2014-01-12 08:48:00  10:48:00  2014_01_12_08_48_00.json    0.000   \n",
       "4 2014-01-14 19:11:46  21:11:46  2014_01_14_19_11_46.json  235.593   \n",
       "\n",
       "   aPower_Relative_Intensity  aBikeScore  Skiba_aVI  aPower_Response_Index  \\\n",
       "0                    0.00000      0.0000    0.00000                0.00000   \n",
       "1                    0.90602     82.2699    1.09083                1.85520   \n",
       "2                    0.94872    235.9180    1.12208                2.21341   \n",
       "3                    0.00000      0.0000    0.00000                0.00000   \n",
       "4                    0.84140     70.8548    1.10010                1.67045   \n",
       "\n",
       "       aNP      aIF      ...        W2_W'bal_Moderate_Fatigue  \\\n",
       "0    0.000  0.00000      ...                                0   \n",
       "1  256.653  0.91662      ...                              128   \n",
       "2  286.852  1.02447      ...                             2087   \n",
       "3    0.000  0.00000      ...                                0   \n",
       "4  236.347  0.84410      ...                                0   \n",
       "\n",
       "   W3_W'bal_Heavy_Fatigue  W4_W'bal_Severe_Fatigue  W1_W'bal_Work_Low_Fatigue  \\\n",
       "0                       0                        0                      0.000   \n",
       "1                       0                        0                    829.311   \n",
       "2                    1565                     3590                    337.727   \n",
       "3                       0                        0                      0.000   \n",
       "4                       0                        0                    781.467   \n",
       "\n",
       "   W2_W'bal_Work_Moderate_Fatigue  W3_W'bal_Work_Heavy_Fatigue  \\\n",
       "0                           0.000                        0.000   \n",
       "1                          32.421                        0.000   \n",
       "2                         382.428                      302.116   \n",
       "3                           0.000                        0.000   \n",
       "4                           0.000                        0.000   \n",
       "\n",
       "   W4_W'bal_Work_Severe_Fatigue  Below_CP_Work  Workout_Code  Workout_Title  \n",
       "0                         0.000          0.000           NaN            NaN  \n",
       "1                         0.000        813.108           NaN            NaN  \n",
       "2                       944.262       1635.620           NaN            NaN  \n",
       "3                         0.000          0.000           NaN            NaN  \n",
       "4                         0.000        770.513           NaN            NaN  \n",
       "\n",
       "[5 rows x 215 columns]"
      ]
     },
     "execution_count": 417,
     "metadata": {},
     "output_type": "execute_result"
    }
   ],
   "source": [
    "data = pd.read_csv('GC_Gavin_History.csv', index_col=0, parse_dates=True, infer_datetime_format=True)\n",
    "data.DateTime = pd.to_datetime(data.DateTime)\n",
    "data.head()"
   ]
  },
  {
   "cell_type": "code",
   "execution_count": 418,
   "metadata": {
    "hidden": true
   },
   "outputs": [
    {
     "data": {
      "text/html": [
       "<div>\n",
       "<table border=\"1\" class=\"dataframe\">\n",
       "  <thead>\n",
       "    <tr style=\"text-align: right;\">\n",
       "      <th></th>\n",
       "      <th>DateTime</th>\n",
       "      <th>Name</th>\n",
       "      <th>Sport</th>\n",
       "      <th>Trainer</th>\n",
       "      <th>Distance</th>\n",
       "      <th>Workout_Type</th>\n",
       "      <th>Type</th>\n",
       "    </tr>\n",
       "  </thead>\n",
       "  <tbody>\n",
       "    <tr>\n",
       "      <th>0</th>\n",
       "      <td>2014-01-05 08:24:28</td>\n",
       "      <td>Windsor Ride</td>\n",
       "      <td>Ride</td>\n",
       "      <td>False</td>\n",
       "      <td>92.3972</td>\n",
       "      <td>NaN</td>\n",
       "      <td>Ride</td>\n",
       "    </tr>\n",
       "    <tr>\n",
       "      <th>1</th>\n",
       "      <td>2014-01-07 19:27:21</td>\n",
       "      <td>Turbo intervals</td>\n",
       "      <td>Ride</td>\n",
       "      <td>True</td>\n",
       "      <td>36.3350</td>\n",
       "      <td>NaN</td>\n",
       "      <td>Trainer</td>\n",
       "    </tr>\n",
       "    <tr>\n",
       "      <th>3</th>\n",
       "      <td>2014-01-11 08:46:59</td>\n",
       "      <td>11/01/2014 Richmond, Greater London, United Ki...</td>\n",
       "      <td>Ride</td>\n",
       "      <td>False</td>\n",
       "      <td>68.0642</td>\n",
       "      <td>NaN</td>\n",
       "      <td>Ride</td>\n",
       "    </tr>\n",
       "    <tr>\n",
       "      <th>4</th>\n",
       "      <td>2014-01-12 08:48:01</td>\n",
       "      <td>Surrey Hills with Jamie</td>\n",
       "      <td>Ride</td>\n",
       "      <td>False</td>\n",
       "      <td>105.7190</td>\n",
       "      <td>NaN</td>\n",
       "      <td>Ride</td>\n",
       "    </tr>\n",
       "    <tr>\n",
       "      <th>5</th>\n",
       "      <td>2014-01-14 19:11:47</td>\n",
       "      <td>Turbo 2x20mins</td>\n",
       "      <td>Ride</td>\n",
       "      <td>True</td>\n",
       "      <td>34.8615</td>\n",
       "      <td>NaN</td>\n",
       "      <td>Trainer</td>\n",
       "    </tr>\n",
       "  </tbody>\n",
       "</table>\n",
       "</div>"
      ],
      "text/plain": [
       "             DateTime                                               Name  \\\n",
       "0 2014-01-05 08:24:28                                       Windsor Ride   \n",
       "1 2014-01-07 19:27:21                                    Turbo intervals   \n",
       "3 2014-01-11 08:46:59  11/01/2014 Richmond, Greater London, United Ki...   \n",
       "4 2014-01-12 08:48:01                            Surrey Hills with Jamie   \n",
       "5 2014-01-14 19:11:47                                     Turbo 2x20mins   \n",
       "\n",
       "  Sport Trainer  Distance  Workout_Type     Type  \n",
       "0  Ride   False   92.3972           NaN     Ride  \n",
       "1  Ride    True   36.3350           NaN  Trainer  \n",
       "3  Ride   False   68.0642           NaN     Ride  \n",
       "4  Ride   False  105.7190           NaN     Ride  \n",
       "5  Ride    True   34.8615           NaN  Trainer  "
      ]
     },
     "execution_count": 418,
     "metadata": {},
     "output_type": "execute_result"
    }
   ],
   "source": [
    "strava = pd.read_csv('strava.csv')\n",
    "strava.DateTime = pd.to_datetime(strava.DateTime)\n",
    "strava = strava[strava.Sport == 'Ride']\n",
    "strava.head()"
   ]
  },
  {
   "cell_type": "markdown",
   "metadata": {
    "hidden": true
   },
   "source": [
    "These strava times were adjusted manually to match the (wrong) GC times. Sort of the wrong way around really."
   ]
  },
  {
   "cell_type": "code",
   "execution_count": 419,
   "metadata": {
    "collapsed": true,
    "hidden": true
   },
   "outputs": [],
   "source": [
    "fix = [['2015-08-04 19:14:04','2015-08-04 20:14:04'],['2016-07-16 13:12:00','2016-07-16 13:11:00'],\\\n",
    "       ['2016-10-07 09:06:14','2016-10-07 08:06:14'],['2014-09-01 10:32:35','2014-09-04 09:32:00'],\\\n",
    "       ['2014-09-02 08:00:41','2014-09-02 07:00:00'],['2014-09-03 07:30:59','2014-09-03 06:30:00'],\\\n",
    "       ['2014-09-04 07:59:41','2014-09-04 06:59:00'],['2014-09-05 11:18:40','2014-09-05 10:18:00'],\\\n",
    "       ['2014-09-05 12:57:55','2014-09-05 11:57:00'],['2014-09-06 07:30:49','2014-09-06 06:30:00'],\\\n",
    "       ['2014-09-07 08:30:59','2014-09-06 07:30:00'],['2016-04-04 10:31:13','2016-04-04 09:31:00'],\\\n",
    "       ['2015-08-16 05:48:03','2015-08-16 06:48:00'],['2015-08-02 10:31:03','2015-08-02 11:31:00'],\\\n",
    "       ['22/02/14 13:38:27','22/02/14 12:38'],['23/02/14 10:34:03','23/02/14 09:34'],\\\n",
    "       ['24/02/14 10:35:10','24/02/14 09:35'],['25/02/14 10:39:39','25/02/14 09:39'],\\\n",
    "       ['26/02/14 10:40:23','26/02/14 09:40'],['27/02/14 10:04:15','27/02/14 09:04'],\\\n",
    "       ['28/02/14 10:05:23','28/02/14 09:05'],['01/03/14 10:23:10','01/03/14 09:23'],\\\n",
    "       ['02/03/14 10:10:30','02/03/14 09:10'],['26/11/2016 08:39:00','26/11/2016 08:38:00'],\\\n",
    "       ['02/08/2015 10:34:03','02/08/2015 11:34:03']]\n",
    "for f in fix:\n",
    "    strava.loc[strava.DateTime == f[0],'DateTime'] = pd.to_datetime(f[1])"
   ]
  },
  {
   "cell_type": "markdown",
   "metadata": {
    "hidden": true
   },
   "source": [
    "Since GC and Strava start times may not match exactly to the second, create a column called DTM that rounds to the DateTime nearest minute to permit a join."
   ]
  },
  {
   "cell_type": "code",
   "execution_count": 420,
   "metadata": {
    "collapsed": true,
    "hidden": true
   },
   "outputs": [],
   "source": [
    "data['DTM'] = data.DateTime.values.astype('datetime64[m]')\n",
    "strava['DTM'] = strava.DateTime.values.astype('datetime64[m]')\n",
    "data = pd.merge(data,strava[['DTM','Name', 'Distance', 'Type']], on='DTM', how='left', suffixes=('','_strava'))\n"
   ]
  },
  {
   "cell_type": "markdown",
   "metadata": {
    "hidden": true
   },
   "source": [
    "Quick check that GC and Strava distances match for the majority of rides."
   ]
  },
  {
   "cell_type": "code",
   "execution_count": 421,
   "metadata": {
    "hidden": true
   },
   "outputs": [
    {
     "data": {
      "text/html": [
       "<div>\n",
       "<table border=\"1\" class=\"dataframe\">\n",
       "  <thead>\n",
       "    <tr style=\"text-align: right;\">\n",
       "      <th></th>\n",
       "      <th>Name</th>\n",
       "      <th>DateTime</th>\n",
       "      <th>Distance</th>\n",
       "      <th>Distance_strava</th>\n",
       "    </tr>\n",
       "  </thead>\n",
       "  <tbody>\n",
       "    <tr>\n",
       "      <th>278</th>\n",
       "      <td>Ride over for lunch</td>\n",
       "      <td>2015-12-28 11:21:03</td>\n",
       "      <td>79.4311</td>\n",
       "      <td>44.1723</td>\n",
       "    </tr>\n",
       "    <tr>\n",
       "      <th>298</th>\n",
       "      <td>Hillingdon E12 - rolled in with bunch</td>\n",
       "      <td>2016-01-30 14:23:27</td>\n",
       "      <td>17.4634</td>\n",
       "      <td>51.7228</td>\n",
       "    </tr>\n",
       "    <tr>\n",
       "      <th>626</th>\n",
       "      <td>Bletchingley</td>\n",
       "      <td>2017-04-23 10:08:36</td>\n",
       "      <td>109.0660</td>\n",
       "      <td>96.8266</td>\n",
       "    </tr>\n",
       "  </tbody>\n",
       "</table>\n",
       "</div>"
      ],
      "text/plain": [
       "                                      Name            DateTime  Distance  \\\n",
       "278                    Ride over for lunch 2015-12-28 11:21:03   79.4311   \n",
       "298  Hillingdon E12 - rolled in with bunch 2016-01-30 14:23:27   17.4634   \n",
       "626                           Bletchingley 2017-04-23 10:08:36  109.0660   \n",
       "\n",
       "     Distance_strava  \n",
       "278          44.1723  \n",
       "298          51.7228  \n",
       "626          96.8266  "
      ]
     },
     "execution_count": 421,
     "metadata": {},
     "output_type": "execute_result"
    },
    {
     "data": {
      "image/png": "[encoded data removed]",
      "text/plain": [
       "<matplotlib.figure.Figure at 0x11ec2f090>"
      ]
     },
     "metadata": {},
     "output_type": "display_data"
    }
   ],
   "source": [
    "data.plot.scatter('Distance','Distance_strava')\n",
    "data[abs(data.Distance-data.Distance_strava)>10][['Name','DateTime','Distance','Distance_strava']]\n"
   ]
  },
  {
   "cell_type": "code",
   "execution_count": 422,
   "metadata": {
    "collapsed": true,
    "hidden": true
   },
   "outputs": [],
   "source": [
    "data.to_csv('Gavin_History_Names.csv')"
   ]
  },
  {
   "cell_type": "markdown",
   "metadata": {
    "heading_collapsed": true
   },
   "source": [
    "## APV\n",
    "Attempt to recalculate Average_Power_Variance '2015_06_13_16_12_53.json' value was 194.137"
   ]
  },
  {
   "cell_type": "code",
   "execution_count": 445,
   "metadata": {
    "collapsed": true,
    "hidden": true
   },
   "outputs": [],
   "source": [
    "lastActivity = '2015_06_13_16_12_53.json'\n",
    "athlete = 'Gavin'\n",
    "activity = pd.read_csv(path+'/'+athlete+'/activity/'+lastActivity+'?format=csv',skipinitialspace=True)\n"
   ]
  },
  {
   "cell_type": "code",
   "execution_count": 449,
   "metadata": {
    "hidden": true
   },
   "outputs": [
    {
     "data": {
      "text/plain": [
       "203.59132722622022"
      ]
     },
     "execution_count": 449,
     "metadata": {},
     "output_type": "execute_result"
    }
   ],
   "source": [
    "w = activity.watts.rolling(30).mean()\n",
    "(activity.watts - w).std()"
   ]
  },
  {
   "cell_type": "code",
   "execution_count": null,
   "metadata": {
    "collapsed": true,
    "hidden": true
   },
   "outputs": [],
   "source": [
    "\n"
   ]
  },
  {
   "cell_type": "code",
   "execution_count": null,
   "metadata": {
    "collapsed": true,
    "hidden": true
   },
   "outputs": [],
   "source": []
  },
  {
   "cell_type": "code",
   "execution_count": null,
   "metadata": {
    "collapsed": true,
    "hidden": true
   },
   "outputs": [],
   "source": []
  }
 ],
 "metadata": {
  "kernelspec": {
   "display_name": "Python [python2]",
   "language": "python",
   "name": "Python [python2]"
  },
  "language_info": {
   "codemirror_mode": {
    "name": "ipython",
    "version": 2
   },
   "file_extension": ".py",
   "mimetype": "text/x-python",
   "name": "python",
   "nbconvert_exporter": "python",
   "pygments_lexer": "ipython2",
   "version": "2.7.12"
  }
 },
 "nbformat": 4,
 "nbformat_minor": 2
}
